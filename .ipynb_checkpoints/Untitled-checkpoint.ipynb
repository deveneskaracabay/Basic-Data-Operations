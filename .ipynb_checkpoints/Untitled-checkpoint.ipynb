{
 "cells": [
  {
   "cell_type": "markdown",
   "metadata": {},
   "source": [
    "# Veri Anlama ve Basit Görselleştirme"
   ]
  },
  {
   "cell_type": "code",
   "execution_count": 26,
   "metadata": {},
   "outputs": [],
   "source": [
    "import pandas as pd\n",
    "import seaborn as sns\n",
    "import matplotlib.pyplot as plt"
   ]
  },
  {
   "cell_type": "code",
   "execution_count": 2,
   "metadata": {},
   "outputs": [],
   "source": [
    "df = pd.read_csv(\"table.csv\")"
   ]
  },
  {
   "cell_type": "code",
   "execution_count": 3,
   "metadata": {},
   "outputs": [
    {
     "data": {
      "text/html": [
       "<div>\n",
       "<style scoped>\n",
       "    .dataframe tbody tr th:only-of-type {\n",
       "        vertical-align: middle;\n",
       "    }\n",
       "\n",
       "    .dataframe tbody tr th {\n",
       "        vertical-align: top;\n",
       "    }\n",
       "\n",
       "    .dataframe thead th {\n",
       "        text-align: right;\n",
       "    }\n",
       "</style>\n",
       "<table border=\"1\" class=\"dataframe\">\n",
       "  <thead>\n",
       "    <tr style=\"text-align: right;\">\n",
       "      <th></th>\n",
       "      <th>Date</th>\n",
       "      <th>Open</th>\n",
       "      <th>High</th>\n",
       "      <th>Low</th>\n",
       "      <th>Close</th>\n",
       "      <th>Volume</th>\n",
       "      <th>Adj Close</th>\n",
       "    </tr>\n",
       "  </thead>\n",
       "  <tbody>\n",
       "    <tr>\n",
       "      <th>0</th>\n",
       "      <td>2008-09-19</td>\n",
       "      <td>461.00</td>\n",
       "      <td>462.07</td>\n",
       "      <td>443.28</td>\n",
       "      <td>449.15</td>\n",
       "      <td>10006000</td>\n",
       "      <td>449.15</td>\n",
       "    </tr>\n",
       "    <tr>\n",
       "      <th>1</th>\n",
       "      <td>2008-09-18</td>\n",
       "      <td>422.64</td>\n",
       "      <td>439.18</td>\n",
       "      <td>410.50</td>\n",
       "      <td>439.08</td>\n",
       "      <td>8589400</td>\n",
       "      <td>439.08</td>\n",
       "    </tr>\n",
       "    <tr>\n",
       "      <th>2</th>\n",
       "      <td>2008-09-17</td>\n",
       "      <td>438.48</td>\n",
       "      <td>439.14</td>\n",
       "      <td>413.44</td>\n",
       "      <td>414.49</td>\n",
       "      <td>9126900</td>\n",
       "      <td>414.49</td>\n",
       "    </tr>\n",
       "    <tr>\n",
       "      <th>3</th>\n",
       "      <td>2008-09-16</td>\n",
       "      <td>425.96</td>\n",
       "      <td>449.28</td>\n",
       "      <td>425.49</td>\n",
       "      <td>442.93</td>\n",
       "      <td>6990700</td>\n",
       "      <td>442.93</td>\n",
       "    </tr>\n",
       "    <tr>\n",
       "      <th>4</th>\n",
       "      <td>2008-09-15</td>\n",
       "      <td>424.00</td>\n",
       "      <td>441.97</td>\n",
       "      <td>423.71</td>\n",
       "      <td>433.86</td>\n",
       "      <td>6567400</td>\n",
       "      <td>433.86</td>\n",
       "    </tr>\n",
       "    <tr>\n",
       "      <th>...</th>\n",
       "      <td>...</td>\n",
       "      <td>...</td>\n",
       "      <td>...</td>\n",
       "      <td>...</td>\n",
       "      <td>...</td>\n",
       "      <td>...</td>\n",
       "      <td>...</td>\n",
       "    </tr>\n",
       "    <tr>\n",
       "      <th>1025</th>\n",
       "      <td>2004-08-25</td>\n",
       "      <td>104.96</td>\n",
       "      <td>108.00</td>\n",
       "      <td>103.88</td>\n",
       "      <td>106.00</td>\n",
       "      <td>4598900</td>\n",
       "      <td>106.00</td>\n",
       "    </tr>\n",
       "    <tr>\n",
       "      <th>1026</th>\n",
       "      <td>2004-08-24</td>\n",
       "      <td>111.24</td>\n",
       "      <td>111.60</td>\n",
       "      <td>103.57</td>\n",
       "      <td>104.87</td>\n",
       "      <td>7631300</td>\n",
       "      <td>104.87</td>\n",
       "    </tr>\n",
       "    <tr>\n",
       "      <th>1027</th>\n",
       "      <td>2004-08-23</td>\n",
       "      <td>110.75</td>\n",
       "      <td>113.48</td>\n",
       "      <td>109.05</td>\n",
       "      <td>109.40</td>\n",
       "      <td>9137200</td>\n",
       "      <td>109.40</td>\n",
       "    </tr>\n",
       "    <tr>\n",
       "      <th>1028</th>\n",
       "      <td>2004-08-20</td>\n",
       "      <td>101.01</td>\n",
       "      <td>109.08</td>\n",
       "      <td>100.50</td>\n",
       "      <td>108.31</td>\n",
       "      <td>11428600</td>\n",
       "      <td>108.31</td>\n",
       "    </tr>\n",
       "    <tr>\n",
       "      <th>1029</th>\n",
       "      <td>2004-08-19</td>\n",
       "      <td>100.00</td>\n",
       "      <td>104.06</td>\n",
       "      <td>95.96</td>\n",
       "      <td>100.34</td>\n",
       "      <td>22351900</td>\n",
       "      <td>100.34</td>\n",
       "    </tr>\n",
       "  </tbody>\n",
       "</table>\n",
       "<p>1030 rows × 7 columns</p>\n",
       "</div>"
      ],
      "text/plain": [
       "            Date    Open    High     Low   Close    Volume  Adj Close\n",
       "0     2008-09-19  461.00  462.07  443.28  449.15  10006000     449.15\n",
       "1     2008-09-18  422.64  439.18  410.50  439.08   8589400     439.08\n",
       "2     2008-09-17  438.48  439.14  413.44  414.49   9126900     414.49\n",
       "3     2008-09-16  425.96  449.28  425.49  442.93   6990700     442.93\n",
       "4     2008-09-15  424.00  441.97  423.71  433.86   6567400     433.86\n",
       "...          ...     ...     ...     ...     ...       ...        ...\n",
       "1025  2004-08-25  104.96  108.00  103.88  106.00   4598900     106.00\n",
       "1026  2004-08-24  111.24  111.60  103.57  104.87   7631300     104.87\n",
       "1027  2004-08-23  110.75  113.48  109.05  109.40   9137200     109.40\n",
       "1028  2004-08-20  101.01  109.08  100.50  108.31  11428600     108.31\n",
       "1029  2004-08-19  100.00  104.06   95.96  100.34  22351900     100.34\n",
       "\n",
       "[1030 rows x 7 columns]"
      ]
     },
     "execution_count": 3,
     "metadata": {},
     "output_type": "execute_result"
    }
   ],
   "source": [
    "df"
   ]
  },
  {
   "cell_type": "code",
   "execution_count": 5,
   "metadata": {},
   "outputs": [
    {
     "name": "stdout",
     "output_type": "stream",
     "text": [
      "<class 'pandas.core.frame.DataFrame'>\n",
      "RangeIndex: 1030 entries, 0 to 1029\n",
      "Data columns (total 7 columns):\n",
      " #   Column     Non-Null Count  Dtype  \n",
      "---  ------     --------------  -----  \n",
      " 0   Date       1030 non-null   object \n",
      " 1   Open       1030 non-null   float64\n",
      " 2   High       1030 non-null   float64\n",
      " 3   Low        1030 non-null   float64\n",
      " 4   Close      1030 non-null   float64\n",
      " 5   Volume     1030 non-null   int64  \n",
      " 6   Adj Close  1030 non-null   float64\n",
      "dtypes: float64(5), int64(1), object(1)\n",
      "memory usage: 56.5+ KB\n"
     ]
    }
   ],
   "source": [
    "df.info()"
   ]
  },
  {
   "cell_type": "code",
   "execution_count": 6,
   "metadata": {},
   "outputs": [
    {
     "data": {
      "text/html": [
       "<div>\n",
       "<style scoped>\n",
       "    .dataframe tbody tr th:only-of-type {\n",
       "        vertical-align: middle;\n",
       "    }\n",
       "\n",
       "    .dataframe tbody tr th {\n",
       "        vertical-align: top;\n",
       "    }\n",
       "\n",
       "    .dataframe thead th {\n",
       "        text-align: right;\n",
       "    }\n",
       "</style>\n",
       "<table border=\"1\" class=\"dataframe\">\n",
       "  <thead>\n",
       "    <tr style=\"text-align: right;\">\n",
       "      <th></th>\n",
       "      <th>count</th>\n",
       "      <th>mean</th>\n",
       "      <th>std</th>\n",
       "      <th>min</th>\n",
       "      <th>25%</th>\n",
       "      <th>50%</th>\n",
       "      <th>75%</th>\n",
       "      <th>max</th>\n",
       "    </tr>\n",
       "  </thead>\n",
       "  <tbody>\n",
       "    <tr>\n",
       "      <th>Open</th>\n",
       "      <td>1030.0</td>\n",
       "      <td>4.049595e+02</td>\n",
       "      <td>1.441351e+02</td>\n",
       "      <td>99.19</td>\n",
       "      <td>2.982250e+02</td>\n",
       "      <td>424.910</td>\n",
       "      <td>4.982625e+02</td>\n",
       "      <td>741.13</td>\n",
       "    </tr>\n",
       "    <tr>\n",
       "      <th>High</th>\n",
       "      <td>1030.0</td>\n",
       "      <td>4.097759e+02</td>\n",
       "      <td>1.454398e+02</td>\n",
       "      <td>101.74</td>\n",
       "      <td>3.006475e+02</td>\n",
       "      <td>429.795</td>\n",
       "      <td>5.050000e+02</td>\n",
       "      <td>747.24</td>\n",
       "    </tr>\n",
       "    <tr>\n",
       "      <th>Low</th>\n",
       "      <td>1030.0</td>\n",
       "      <td>3.995043e+02</td>\n",
       "      <td>1.420875e+02</td>\n",
       "      <td>95.96</td>\n",
       "      <td>2.941775e+02</td>\n",
       "      <td>418.695</td>\n",
       "      <td>4.929125e+02</td>\n",
       "      <td>725.00</td>\n",
       "    </tr>\n",
       "    <tr>\n",
       "      <th>Close</th>\n",
       "      <td>1030.0</td>\n",
       "      <td>4.045682e+02</td>\n",
       "      <td>1.437298e+02</td>\n",
       "      <td>100.01</td>\n",
       "      <td>2.980125e+02</td>\n",
       "      <td>424.020</td>\n",
       "      <td>4.985250e+02</td>\n",
       "      <td>741.79</td>\n",
       "    </tr>\n",
       "    <tr>\n",
       "      <th>Volume</th>\n",
       "      <td>1030.0</td>\n",
       "      <td>7.897086e+06</td>\n",
       "      <td>5.136492e+06</td>\n",
       "      <td>1628400.00</td>\n",
       "      <td>4.592475e+06</td>\n",
       "      <td>6565250.000</td>\n",
       "      <td>9.183175e+06</td>\n",
       "      <td>41116700.00</td>\n",
       "    </tr>\n",
       "    <tr>\n",
       "      <th>Adj Close</th>\n",
       "      <td>1030.0</td>\n",
       "      <td>4.045682e+02</td>\n",
       "      <td>1.437298e+02</td>\n",
       "      <td>100.01</td>\n",
       "      <td>2.980125e+02</td>\n",
       "      <td>424.020</td>\n",
       "      <td>4.985250e+02</td>\n",
       "      <td>741.79</td>\n",
       "    </tr>\n",
       "  </tbody>\n",
       "</table>\n",
       "</div>"
      ],
      "text/plain": [
       "            count          mean           std         min           25%  \\\n",
       "Open       1030.0  4.049595e+02  1.441351e+02       99.19  2.982250e+02   \n",
       "High       1030.0  4.097759e+02  1.454398e+02      101.74  3.006475e+02   \n",
       "Low        1030.0  3.995043e+02  1.420875e+02       95.96  2.941775e+02   \n",
       "Close      1030.0  4.045682e+02  1.437298e+02      100.01  2.980125e+02   \n",
       "Volume     1030.0  7.897086e+06  5.136492e+06  1628400.00  4.592475e+06   \n",
       "Adj Close  1030.0  4.045682e+02  1.437298e+02      100.01  2.980125e+02   \n",
       "\n",
       "                   50%           75%          max  \n",
       "Open           424.910  4.982625e+02       741.13  \n",
       "High           429.795  5.050000e+02       747.24  \n",
       "Low            418.695  4.929125e+02       725.00  \n",
       "Close          424.020  4.985250e+02       741.79  \n",
       "Volume     6565250.000  9.183175e+06  41116700.00  \n",
       "Adj Close      424.020  4.985250e+02       741.79  "
      ]
     },
     "execution_count": 6,
     "metadata": {},
     "output_type": "execute_result"
    }
   ],
   "source": [
    "df.describe().T"
   ]
  },
  {
   "cell_type": "code",
   "execution_count": 24,
   "metadata": {},
   "outputs": [
    {
     "data": {
      "image/png": "[encoded data removed]",
      "text/plain": [
       "<Figure size 360x360 with 1 Axes>"
      ]
     },
     "metadata": {
      "needs_background": "light"
     },
     "output_type": "display_data"
    }
   ],
   "source": [
    "sns.displot(df.Open,bins=30,color=\"blue\");"
   ]
  },
  {
   "cell_type": "code",
   "execution_count": 16,
   "metadata": {},
   "outputs": [
    {
     "data": {
      "image/png": "[encoded data removed]",
      "text/plain": [
       "<Figure size 360x360 with 1 Axes>"
      ]
     },
     "metadata": {
      "needs_background": "light"
     },
     "output_type": "display_data"
    }
   ],
   "source": [
    "sns.displot(df.High,bins=30,color=\"red\");"
   ]
  },
  {
   "cell_type": "code",
   "execution_count": 17,
   "metadata": {},
   "outputs": [
    {
     "data": {
      "image/png": "[encoded data removed]",
      "text/plain": [
       "<Figure size 360x360 with 1 Axes>"
      ]
     },
     "metadata": {
      "needs_background": "light"
     },
     "output_type": "display_data"
    }
   ],
   "source": [
    "sns.displot(df.Low,bins=30,color=\"green\");"
   ]
  },
  {
   "cell_type": "code",
   "execution_count": 18,
   "metadata": {},
   "outputs": [
    {
     "data": {
      "image/png": "[encoded data removed]",
      "text/plain": [
       "<Figure size 360x360 with 1 Axes>"
      ]
     },
     "metadata": {
      "needs_background": "light"
     },
     "output_type": "display_data"
    }
   ],
   "source": [
    "sns.displot(df.Close,bins=30,color=\"yellow\");"
   ]
  },
  {
   "cell_type": "code",
   "execution_count": 19,
   "metadata": {},
   "outputs": [
    {
     "data": {
      "image/png": "[encoded data removed]",
      "text/plain": [
       "<Figure size 360x360 with 1 Axes>"
      ]
     },
     "metadata": {
      "needs_background": "light"
     },
     "output_type": "display_data"
    }
   ],
   "source": [
    "sns.displot(df.Volume,bins=30,color=\"orange\");"
   ]
  },
  {
   "cell_type": "code",
   "execution_count": 21,
   "metadata": {
    "scrolled": false
   },
   "outputs": [
    {
     "data": {
      "image/png": "[encoded data removed]",
      "text/plain": [
       "<Figure size 360x360 with 1 Axes>"
      ]
     },
     "metadata": {
      "needs_background": "light"
     },
     "output_type": "display_data"
    }
   ],
   "source": [
    "sns.displot(df[\"Adj Close\"],bins=30,color=\"black\");"
   ]
  },
  {
   "cell_type": "code",
   "execution_count": 27,
   "metadata": {},
   "outputs": [
    {
     "data": {
      "text/html": [
       "<div>\n",
       "<style scoped>\n",
       "    .dataframe tbody tr th:only-of-type {\n",
       "        vertical-align: middle;\n",
       "    }\n",
       "\n",
       "    .dataframe tbody tr th {\n",
       "        vertical-align: top;\n",
       "    }\n",
       "\n",
       "    .dataframe thead th {\n",
       "        text-align: right;\n",
       "    }\n",
       "</style>\n",
       "<table border=\"1\" class=\"dataframe\">\n",
       "  <thead>\n",
       "    <tr style=\"text-align: right;\">\n",
       "      <th></th>\n",
       "      <th>count</th>\n",
       "      <th>mean</th>\n",
       "      <th>std</th>\n",
       "      <th>min</th>\n",
       "      <th>25%</th>\n",
       "      <th>50%</th>\n",
       "      <th>75%</th>\n",
       "      <th>max</th>\n",
       "    </tr>\n",
       "  </thead>\n",
       "  <tbody>\n",
       "    <tr>\n",
       "      <th>Open</th>\n",
       "      <td>1030.0</td>\n",
       "      <td>4.049595e+02</td>\n",
       "      <td>1.441351e+02</td>\n",
       "      <td>99.19</td>\n",
       "      <td>2.982250e+02</td>\n",
       "      <td>424.910</td>\n",
       "      <td>4.982625e+02</td>\n",
       "      <td>741.13</td>\n",
       "    </tr>\n",
       "    <tr>\n",
       "      <th>High</th>\n",
       "      <td>1030.0</td>\n",
       "      <td>4.097759e+02</td>\n",
       "      <td>1.454398e+02</td>\n",
       "      <td>101.74</td>\n",
       "      <td>3.006475e+02</td>\n",
       "      <td>429.795</td>\n",
       "      <td>5.050000e+02</td>\n",
       "      <td>747.24</td>\n",
       "    </tr>\n",
       "    <tr>\n",
       "      <th>Low</th>\n",
       "      <td>1030.0</td>\n",
       "      <td>3.995043e+02</td>\n",
       "      <td>1.420875e+02</td>\n",
       "      <td>95.96</td>\n",
       "      <td>2.941775e+02</td>\n",
       "      <td>418.695</td>\n",
       "      <td>4.929125e+02</td>\n",
       "      <td>725.00</td>\n",
       "    </tr>\n",
       "    <tr>\n",
       "      <th>Close</th>\n",
       "      <td>1030.0</td>\n",
       "      <td>4.045682e+02</td>\n",
       "      <td>1.437298e+02</td>\n",
       "      <td>100.01</td>\n",
       "      <td>2.980125e+02</td>\n",
       "      <td>424.020</td>\n",
       "      <td>4.985250e+02</td>\n",
       "      <td>741.79</td>\n",
       "    </tr>\n",
       "    <tr>\n",
       "      <th>Volume</th>\n",
       "      <td>1030.0</td>\n",
       "      <td>7.897086e+06</td>\n",
       "      <td>5.136492e+06</td>\n",
       "      <td>1628400.00</td>\n",
       "      <td>4.592475e+06</td>\n",
       "      <td>6565250.000</td>\n",
       "      <td>9.183175e+06</td>\n",
       "      <td>41116700.00</td>\n",
       "    </tr>\n",
       "    <tr>\n",
       "      <th>Adj Close</th>\n",
       "      <td>1030.0</td>\n",
       "      <td>4.045682e+02</td>\n",
       "      <td>1.437298e+02</td>\n",
       "      <td>100.01</td>\n",
       "      <td>2.980125e+02</td>\n",
       "      <td>424.020</td>\n",
       "      <td>4.985250e+02</td>\n",
       "      <td>741.79</td>\n",
       "    </tr>\n",
       "  </tbody>\n",
       "</table>\n",
       "</div>"
      ],
      "text/plain": [
       "            count          mean           std         min           25%  \\\n",
       "Open       1030.0  4.049595e+02  1.441351e+02       99.19  2.982250e+02   \n",
       "High       1030.0  4.097759e+02  1.454398e+02      101.74  3.006475e+02   \n",
       "Low        1030.0  3.995043e+02  1.420875e+02       95.96  2.941775e+02   \n",
       "Close      1030.0  4.045682e+02  1.437298e+02      100.01  2.980125e+02   \n",
       "Volume     1030.0  7.897086e+06  5.136492e+06  1628400.00  4.592475e+06   \n",
       "Adj Close  1030.0  4.045682e+02  1.437298e+02      100.01  2.980125e+02   \n",
       "\n",
       "                   50%           75%          max  \n",
       "Open           424.910  4.982625e+02       741.13  \n",
       "High           429.795  5.050000e+02       747.24  \n",
       "Low            418.695  4.929125e+02       725.00  \n",
       "Close          424.020  4.985250e+02       741.79  \n",
       "Volume     6565250.000  9.183175e+06  41116700.00  \n",
       "Adj Close      424.020  4.985250e+02       741.79  "
      ]
     },
     "execution_count": 27,
     "metadata": {},
     "output_type": "execute_result"
    }
   ],
   "source": [
    "df.describe().T"
   ]
  },
  {
   "cell_type": "code",
   "execution_count": 28,
   "metadata": {},
   "outputs": [
    {
     "data": {
      "text/plain": [
       "<matplotlib.collections.PathCollection at 0x7ff64a0c0c70>"
      ]
     },
     "execution_count": 28,
     "metadata": {},
     "output_type": "execute_result"
    },
    {
     "data": {
      "image/png": "[encoded data removed]",
      "text/plain": [
       "<Figure size 432x288 with 1 Axes>"
      ]
     },
     "metadata": {
      "needs_background": "light"
     },
     "output_type": "display_data"
    }
   ],
   "source": [
    "plt.scatter(df['Open'], df['High'])"
   ]
  },
  {
   "cell_type": "code",
   "execution_count": 29,
   "metadata": {},
   "outputs": [
    {
     "data": {
      "text/plain": [
       "<matplotlib.collections.PathCollection at 0x7ff64a8d29d0>"
      ]
     },
     "execution_count": 29,
     "metadata": {},
     "output_type": "execute_result"
    },
    {
     "data": {
      "image/png": "[encoded data removed]",
      "text/plain": [
       "<Figure size 432x288 with 1 Axes>"
      ]
     },
     "metadata": {
      "needs_background": "light"
     },
     "output_type": "display_data"
    }
   ],
   "source": [
    "plt.scatter(df['High'], df['Close'])"
   ]
  },
  {
   "cell_type": "code",
   "execution_count": 31,
   "metadata": {},
   "outputs": [
    {
     "data": {
      "text/plain": [
       "<matplotlib.collections.PathCollection at 0x7ff649e357c0>"
      ]
     },
     "execution_count": 31,
     "metadata": {},
     "output_type": "execute_result"
    },
    {
     "data": {
      "image/png": "[encoded data removed]",
      "text/plain": [
       "<Figure size 432x288 with 1 Axes>"
      ]
     },
     "metadata": {
      "needs_background": "light"
     },
     "output_type": "display_data"
    }
   ],
   "source": [
    "plt.scatter(df['Volume'], df['Close'])"
   ]
  },
  {
   "cell_type": "code",
   "execution_count": 32,
   "metadata": {},
   "outputs": [
    {
     "data": {
      "text/plain": [
       "<matplotlib.collections.PathCollection at 0x7ff64aa49550>"
      ]
     },
     "execution_count": 32,
     "metadata": {},
     "output_type": "execute_result"
    },
    {
     "data": {
      "image/png": "[encoded data removed]",
      "text/plain": [
       "<Figure size 432x288 with 1 Axes>"
      ]
     },
     "metadata": {
      "needs_background": "light"
     },
     "output_type": "display_data"
    }
   ],
   "source": [
    "plt.scatter(df['Adj Close'], df['Close'])"
   ]
  },
  {
   "cell_type": "code",
   "execution_count": null,
   "metadata": {},
   "outputs": [],
   "source": []
  }
 ],
 "metadata": {
  "kernelspec": {
   "display_name": "Python 3",
   "language": "python",
   "name": "python3"
  },
  "language_info": {
   "codemirror_mode": {
    "name": "ipython",
    "version": 3
   },
   "file_extension": ".py",
   "mimetype": "text/x-python",
   "name": "python",
   "nbconvert_exporter": "python",
   "pygments_lexer": "ipython3",
   "version": "3.8.5"
  }
 },
 "nbformat": 4,
 "nbformat_minor": 4
}
